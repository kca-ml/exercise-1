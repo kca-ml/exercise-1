{
 "cells": [
  {
   "cell_type": "code",
   "execution_count": 1,
   "metadata": {},
   "outputs": [
    {
     "name": "stdout",
     "output_type": "stream",
     "text": [
      "8\n"
     ]
    }
   ],
   "source": [
    "import numpy as np\n",
    "test = [[1,2,3],[4,5,6],[7,8,9]]\n",
    "print(test[2][1])"
   ]
  },
  {
   "cell_type": "markdown",
   "metadata": {},
   "source": [
    "with help from https://mathematica.stackexchange.com/questions/121822/application-of-the-projection-matrix-removing-perspective-distortion\n",
    "\n",
    "the goal is to find the transformation matrix that will map the distorted image into the correct one\n",
    "the matrix is 3x3 because the image will be transformed in three dimensions, not just two\n",
    "the 2d coordinates are turned to homogenous coordinates by adding a third variable z = 1\n",
    "multiplying these coordinates with the matrix and dividing each row with the last row yields the equations relating the corrected coordinates, the 9 coefficients, and the original coordinates\n",
    "the original coordinates can be obtained from an object in the image that is known to be rectangular\n",
    "one set of corrected coordinates can be the same as one of the original coordinates\n",
    "the points adjacent to the known corrected coordinates are partially known (they are orthogonal)\n",
    "the system of eight equations can be solved to find the specific transformation matrix for the given image and set of chosen original points\n",
    "the transformation matrix can then be multiplied to the image to obtain the final image"
   ]
  }
 ],
 "metadata": {
  "kernelspec": {
   "display_name": "Python 3.10.7 64-bit (microsoft store)",
   "language": "python",
   "name": "python3"
  },
  "language_info": {
   "codemirror_mode": {
    "name": "ipython",
    "version": 3
   },
   "file_extension": ".py",
   "mimetype": "text/x-python",
   "name": "python",
   "nbconvert_exporter": "python",
   "pygments_lexer": "ipython3",
   "version": "3.10.8"
  },
  "orig_nbformat": 4,
  "vscode": {
   "interpreter": {
    "hash": "aa38ca2d4ac5334f8facb9127846041594939b57ea42b4afe5d7eb655aac64f1"
   }
  }
 },
 "nbformat": 4,
 "nbformat_minor": 2
}
